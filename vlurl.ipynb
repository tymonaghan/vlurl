{
 "cells": [
  {
   "cell_type": "code",
   "execution_count": 2,
   "metadata": {},
   "outputs": [],
   "source": [
    "\n",
    "import tkinter as tk\n",
    "from tkinter import filedialog\n",
    "import csv\n",
    "import requests\n",
    "import concurrent.futures\n",
    "\n",
    "\n",
    "\n",
    "root = tk.Tk()\n",
    "root.withdraw()\n",
    "\n",
    "file_path = filedialog.askopenfilename(filetypes=[(\"Text Files\", \"*.txt\")])\n",
    "\n",
    "# Open the CSV file and create a list of dictionaries\n",
    "with open(file_path, \"r\", encoding=\"utf-16-le\", newline=\"\\r\\n\") as file:\n",
    "    reader = csv.DictReader(file, delimiter=\"\\t\")\n",
    "    fieldnames = reader.fieldnames\n",
    "    fieldnames.append(\"response\")\n",
    "    rows = list(reader)\n",
    "    chunk_size = 5000\n",
    "    chunks = [rows[i:i+chunk_size] for i in range(0, len(rows), chunk_size)]\n",
    "\n",
    "def send_request(row):\n",
    "    # Get the URL from the \"Photo URL\" field\n",
    "    url = row[\"Photo URL\"]\n",
    "    if url == '': return row\n",
    "    session = requests.Session()\n",
    "    a = requests.adapters.HTTPAdapter(max_retries=0)\n",
    "    b = requests.adapters.HTTPAdapter(max_retries=0)\n",
    "    session.mount('http://', a)\n",
    "    session.mount('https://', b)\n",
    "    \n",
    "    # Send a GET request to the URL\n",
    "    try: \n",
    "        response = session.get(url, timeout=5)\n",
    "        row[\"response\"] = response.status_code\n",
    "    except Exception as e: row[\"response\"] = str(e)\n",
    "    return row    \n",
    "# Use a ThreadPoolExecutor to execute the requests in parallel\n",
    "for i, chunk in enumerate(chunks):\n",
    "    with concurrent.futures.ThreadPoolExecutor(max_workers=50) as executor:\n",
    "        results = executor.map(send_request, chunk)\n",
    "\n",
    "    # Write the updated rows back to the CSV file\n",
    "    with open(f'/home/tnmon/git/vlurl/results/final-results-part-{i}appended.txt', \"w\", encoding=\"utf-16-le\") as file:\n",
    "        writer = csv.DictWriter(file, fieldnames=fieldnames, delimiter=\"\\t\")\n",
    "        writer.writeheader()\n",
    "        writer.writerows(results)"
   ]
  }
 ],
 "metadata": {
  "kernelspec": {
   "display_name": ".venv",
   "language": "python",
   "name": "python3"
  },
  "language_info": {
   "codemirror_mode": {
    "name": "ipython",
    "version": 3
   },
   "file_extension": ".py",
   "mimetype": "text/x-python",
   "name": "python",
   "nbconvert_exporter": "python",
   "pygments_lexer": "ipython3",
   "version": "3.8.10"
  },
  "orig_nbformat": 4
 },
 "nbformat": 4,
 "nbformat_minor": 2
}
